{
  "nbformat": 4,
  "nbformat_minor": 0,
  "metadata": {
    "colab": {
      "provenance": [],
      "authorship_tag": "ABX9TyN3/idAbA/ZO39VMml8RcrE",
      "include_colab_link": true
    },
    "kernelspec": {
      "name": "python3",
      "display_name": "Python 3"
    },
    "language_info": {
      "name": "python"
    }
  },
  "cells": [
    {
      "cell_type": "markdown",
      "metadata": {
        "id": "view-in-github",
        "colab_type": "text"
      },
      "source": [
        "<a href=\"https://colab.research.google.com/github/brunofaragao/Lessons/blob/main/Pandas2.ipynb\" target=\"_parent\"><img src=\"https://colab.research.google.com/assets/colab-badge.svg\" alt=\"Open In Colab\"/></a>"
      ]
    },
    {
      "cell_type": "code",
      "execution_count": null,
      "metadata": {
        "id": "1hujnB4CetlO"
      },
      "outputs": [],
      "source": [
        "#!pip install pandas\n"
      ]
    },
    {
      "cell_type": "code",
      "source": [
        "# Import the library\n",
        "\n",
        "import numpy as np\n",
        "import pandas as pd\n"
      ],
      "metadata": {
        "id": "BGxwr9q4e24T"
      },
      "execution_count": null,
      "outputs": []
    },
    {
      "cell_type": "markdown",
      "source": [
        "Config how the DataFrame is displayed"
      ],
      "metadata": {
        "id": "jH7KseSfLNfP"
      }
    },
    {
      "cell_type": "code",
      "source": [
        "from google.colab import data_table\n"
      ],
      "metadata": {
        "id": "zWXYSTRIeDai"
      },
      "execution_count": null,
      "outputs": []
    },
    {
      "cell_type": "markdown",
      "source": [
        "Import dataset from excel\n"
      ],
      "metadata": {
        "id": "jpURE7Y0HNg7"
      }
    },
    {
      "cell_type": "code",
      "source": [
        "data = pd.read_excel('dataset_sales.xlsx')\n",
        "df = pd.DataFrame(data)\n",
        "df.set_index('Row ID', inplace=True)\n",
        "print(df)"
      ],
      "metadata": {
        "colab": {
          "base_uri": "https://localhost:8080/"
        },
        "id": "grvpPKczHcA9",
        "outputId": "a784d1d0-379c-4002-d656-1d2b61c00bab"
      },
      "execution_count": null,
      "outputs": [
        {
          "output_type": "stream",
          "name": "stdout",
          "text": [
            "              Order ID  Order Date  Ship Date       Ship Mode Customer ID  \\\n",
            "Row ID                                                                      \n",
            "1       CA-2016-152156       42682      42685    Second Class    CG-12520   \n",
            "2       CA-2016-152156       42682      42685    Second Class    CG-12520   \n",
            "3       CA-2016-138688       42533      42537    Second Class    DV-13045   \n",
            "4       US-2015-108966       42288      42295  Standard Class    SO-20335   \n",
            "5       US-2015-108966       42288      42295  Standard Class    SO-20335   \n",
            "...                ...         ...        ...             ...         ...   \n",
            "9990    CA-2014-110422       41660      41662    Second Class    TB-21400   \n",
            "9991    CA-2017-121258       42792      42797  Standard Class    DB-13060   \n",
            "9992    CA-2017-121258       42792      42797  Standard Class    DB-13060   \n",
            "9993    CA-2017-121258       42792      42797  Standard Class    DB-13060   \n",
            "9994    CA-2017-119914       42859      42864    Second Class    CC-12220   \n",
            "\n",
            "           Customer Name    Segment        Country             City  \\\n",
            "Row ID                                                                \n",
            "1            Claire Gute   Consumer  United States        Henderson   \n",
            "2            Claire Gute   Consumer  United States        Henderson   \n",
            "3        Darrin Van Huff  Corporate  United States      Los Angeles   \n",
            "4         Sean O'Donnell   Consumer  United States  Fort Lauderdale   \n",
            "5         Sean O'Donnell   Consumer  United States  Fort Lauderdale   \n",
            "...                  ...        ...            ...              ...   \n",
            "9990    Tom Boeckenhauer   Consumer  United States            Miami   \n",
            "9991         Dave Brooks   Consumer  United States       Costa Mesa   \n",
            "9992         Dave Brooks   Consumer  United States       Costa Mesa   \n",
            "9993         Dave Brooks   Consumer  United States       Costa Mesa   \n",
            "9994        Chris Cortes   Consumer  United States      Westminster   \n",
            "\n",
            "             State  Postal Code Region       Product ID         Category  \\\n",
            "Row ID                                                                     \n",
            "1         Kentucky        42420  South  FUR-BO-10001798        Furniture   \n",
            "2         Kentucky        42420  South  FUR-CH-10000454        Furniture   \n",
            "3       California        90036   West  OFF-LA-10000240  Office Supplies   \n",
            "4          Florida        33311  South  FUR-TA-10000577        Furniture   \n",
            "5          Florida        33311  South  OFF-ST-10000760  Office Supplies   \n",
            "...            ...          ...    ...              ...              ...   \n",
            "9990       Florida        33180  South  FUR-FU-10001889        Furniture   \n",
            "9991    California        92627   West  FUR-FU-10000747        Furniture   \n",
            "9992    California        92627   West  TEC-PH-10003645       Technology   \n",
            "9993    California        92627   West  OFF-PA-10004041  Office Supplies   \n",
            "9994    California        92683   West  OFF-AP-10002684  Office Supplies   \n",
            "\n",
            "       Sub-Category                                       Product Name  \\\n",
            "Row ID                                                                   \n",
            "1         Bookcases                  Bush Somerset Collection Bookcase   \n",
            "2            Chairs  Hon Deluxe Fabric Upholstered Stacking Chairs,...   \n",
            "3            Labels  Self-Adhesive Address Labels for Typewriters b...   \n",
            "4            Tables      Bretford CR4500 Series Slim Rectangular Table   \n",
            "5           Storage                     Eldon Fold 'N Roll Cart System   \n",
            "...             ...                                                ...   \n",
            "9990    Furnishings                             Ultra Door Pull Handle   \n",
            "9991    Furnishings  Tenex B1-RE Series Chair Mats for Low Pile Car...   \n",
            "9992         Phones                              Aastra 57i VoIP phone   \n",
            "9993          Paper  It's Hot Message Books with Stickers, 2 3/4\" x 5\"   \n",
            "9994     Appliances  Acco 7-Outlet Masterpiece Power Center, Wihtou...   \n",
            "\n",
            "           Sales  Quantity  Discount    Profit  \n",
            "Row ID                                          \n",
            "1       261.9600         2      0.00   41.9136  \n",
            "2       731.9400         3      0.00  219.5820  \n",
            "3        14.6200         2      0.00    6.8714  \n",
            "4       957.5775         5      0.45 -383.0310  \n",
            "5        22.3680         2      0.20    2.5164  \n",
            "...          ...       ...       ...       ...  \n",
            "9990     25.2480         3      0.20    4.1028  \n",
            "9991     91.9600         2      0.00   15.6332  \n",
            "9992    258.5760         2      0.20   19.3932  \n",
            "9993     29.6000         4      0.00   13.3200  \n",
            "9994    243.1600         2      0.00   72.9480  \n",
            "\n",
            "[9994 rows x 20 columns]\n"
          ]
        }
      ]
    },
    {
      "cell_type": "code",
      "source": [
        "subData = df.loc[0:, ['State', 'Segment', 'Customer ID', 'Category', 'Sales', 'Profit']].copy()\n",
        "print(subData)"
      ],
      "metadata": {
        "colab": {
          "base_uri": "https://localhost:8080/"
        },
        "id": "ujhuTouVjGSQ",
        "outputId": "86c4ef9c-5157-4cf9-8198-931d08b1af22"
      },
      "execution_count": null,
      "outputs": [
        {
          "output_type": "stream",
          "name": "stdout",
          "text": [
            "             State    Segment Customer ID         Category     Sales    Profit\n",
            "Row ID                                                                        \n",
            "1         Kentucky   Consumer    CG-12520        Furniture  261.9600   41.9136\n",
            "2         Kentucky   Consumer    CG-12520        Furniture  731.9400  219.5820\n",
            "3       California  Corporate    DV-13045  Office Supplies   14.6200    6.8714\n",
            "4          Florida   Consumer    SO-20335        Furniture  957.5775 -383.0310\n",
            "5          Florida   Consumer    SO-20335  Office Supplies   22.3680    2.5164\n",
            "...            ...        ...         ...              ...       ...       ...\n",
            "9990       Florida   Consumer    TB-21400        Furniture   25.2480    4.1028\n",
            "9991    California   Consumer    DB-13060        Furniture   91.9600   15.6332\n",
            "9992    California   Consumer    DB-13060       Technology  258.5760   19.3932\n",
            "9993    California   Consumer    DB-13060  Office Supplies   29.6000   13.3200\n",
            "9994    California   Consumer    CC-12220  Office Supplies  243.1600   72.9480\n",
            "\n",
            "[9994 rows x 6 columns]\n"
          ]
        }
      ]
    },
    {
      "cell_type": "code",
      "source": [
        "# Adding 2 columns to calculate the percentage\n",
        "subData['% Sales'] = (subData['Sales']/subData['Sales'].sum()*100)\n",
        "subData['% Profit'] = (subData['Profit']/subData['Profit'].sum()*100)\n",
        "\n",
        "# Reorganize DataFrame columns\n",
        "subData = subData[['State', 'Segment', 'Customer ID', 'Category', 'Sales', '% Sales', 'Profit', '% Profit']]\n",
        "print(subData)"
      ],
      "metadata": {
        "colab": {
          "base_uri": "https://localhost:8080/"
        },
        "id": "YkcPOOKKyrMD",
        "outputId": "d335665f-e9ed-438e-dd6e-41604a1b145f"
      },
      "execution_count": null,
      "outputs": [
        {
          "output_type": "stream",
          "name": "stdout",
          "text": [
            "             State    Segment Customer ID         Category     Sales  \\\n",
            "Row ID                                                                 \n",
            "1         Kentucky   Consumer    CG-12520        Furniture  261.9600   \n",
            "2         Kentucky   Consumer    CG-12520        Furniture  731.9400   \n",
            "3       California  Corporate    DV-13045  Office Supplies   14.6200   \n",
            "4          Florida   Consumer    SO-20335        Furniture  957.5775   \n",
            "5          Florida   Consumer    SO-20335  Office Supplies   22.3680   \n",
            "...            ...        ...         ...              ...       ...   \n",
            "9990       Florida   Consumer    TB-21400        Furniture   25.2480   \n",
            "9991    California   Consumer    DB-13060        Furniture   91.9600   \n",
            "9992    California   Consumer    DB-13060       Technology  258.5760   \n",
            "9993    California   Consumer    DB-13060  Office Supplies   29.6000   \n",
            "9994    California   Consumer    CC-12220  Office Supplies  243.1600   \n",
            "\n",
            "         % Sales    Profit  % Profit  \n",
            "Row ID                                \n",
            "1       0.011403   41.9136  0.014635  \n",
            "2       0.031862  219.5820  0.076670  \n",
            "3       0.000636    6.8714  0.002399  \n",
            "4       0.041685 -383.0310 -0.133741  \n",
            "5       0.000974    2.5164  0.000879  \n",
            "...          ...       ...       ...  \n",
            "9990    0.001099    4.1028  0.001433  \n",
            "9991    0.004003   15.6332  0.005459  \n",
            "9992    0.011256   19.3932  0.006771  \n",
            "9993    0.001289   13.3200  0.004651  \n",
            "9994    0.010585   72.9480  0.025471  \n",
            "\n",
            "[9994 rows x 8 columns]\n"
          ]
        }
      ]
    },
    {
      "cell_type": "markdown",
      "source": [
        "Find witch category has more profit"
      ],
      "metadata": {
        "id": "JSOW6KvsJEg-"
      }
    },
    {
      "cell_type": "code",
      "source": [
        "category_rank = subData.groupby('Category')['Profit'].sum()\n",
        "print(category_rank)"
      ],
      "metadata": {
        "colab": {
          "base_uri": "https://localhost:8080/",
          "height": 183
        },
        "id": "lEf75UZjHm-i",
        "outputId": "75e2b4a4-9b55-41b4-de5c-9d432237ba14"
      },
      "execution_count": null,
      "outputs": [
        {
          "output_type": "error",
          "ename": "NameError",
          "evalue": "ignored",
          "traceback": [
            "\u001b[0;31m---------------------------------------------------------------------------\u001b[0m",
            "\u001b[0;31mNameError\u001b[0m                                 Traceback (most recent call last)",
            "\u001b[0;32m<ipython-input-1-95914986189b>\u001b[0m in \u001b[0;36m<cell line: 1>\u001b[0;34m()\u001b[0m\n\u001b[0;32m----> 1\u001b[0;31m \u001b[0mcategory_rank\u001b[0m \u001b[0;34m=\u001b[0m \u001b[0msubData\u001b[0m\u001b[0;34m.\u001b[0m\u001b[0mgroupby\u001b[0m\u001b[0;34m(\u001b[0m\u001b[0;34m'Category'\u001b[0m\u001b[0;34m)\u001b[0m\u001b[0;34m[\u001b[0m\u001b[0;34m'Profit'\u001b[0m\u001b[0;34m]\u001b[0m\u001b[0;34m.\u001b[0m\u001b[0msum\u001b[0m\u001b[0;34m(\u001b[0m\u001b[0;34m)\u001b[0m\u001b[0;34m\u001b[0m\u001b[0;34m\u001b[0m\u001b[0m\n\u001b[0m\u001b[1;32m      2\u001b[0m \u001b[0mprint\u001b[0m\u001b[0;34m(\u001b[0m\u001b[0mcategory_rank\u001b[0m\u001b[0;34m)\u001b[0m\u001b[0;34m\u001b[0m\u001b[0;34m\u001b[0m\u001b[0m\n",
            "\u001b[0;31mNameError\u001b[0m: name 'subData' is not defined"
          ]
        }
      ]
    },
    {
      "cell_type": "code",
      "source": [
        "prod_rank = df.groupby('State')['Profit'].sum().sort_values('Profit', ascending=True)\n",
        "\n",
        "print(prod_rank)"
      ],
      "metadata": {
        "colab": {
          "base_uri": "https://localhost:8080/",
          "height": 467
        },
        "id": "4csLh5uTs4i0",
        "outputId": "b6d325a0-45da-4de0-80f5-eede4033df89"
      },
      "execution_count": null,
      "outputs": [
        {
          "output_type": "stream",
          "name": "stderr",
          "text": [
            "<ipython-input-44-e016e058727b>:1: FutureWarning: In a future version of pandas all arguments of Series.sort_values will be keyword-only.\n",
            "  prod_rank = df.groupby('State')['Profit'].sum().sort_values('Profit', ascending=True)\n"
          ]
        },
        {
          "output_type": "error",
          "ename": "ValueError",
          "evalue": "ignored",
          "traceback": [
            "\u001b[0;31m---------------------------------------------------------------------------\u001b[0m",
            "\u001b[0;31mKeyError\u001b[0m                                  Traceback (most recent call last)",
            "\u001b[0;32m/usr/local/lib/python3.10/dist-packages/pandas/core/generic.py\u001b[0m in \u001b[0;36m_get_axis_number\u001b[0;34m(cls, axis)\u001b[0m\n\u001b[1;32m    553\u001b[0m         \u001b[0;32mtry\u001b[0m\u001b[0;34m:\u001b[0m\u001b[0;34m\u001b[0m\u001b[0;34m\u001b[0m\u001b[0m\n\u001b[0;32m--> 554\u001b[0;31m             \u001b[0;32mreturn\u001b[0m \u001b[0mcls\u001b[0m\u001b[0;34m.\u001b[0m\u001b[0m_AXIS_TO_AXIS_NUMBER\u001b[0m\u001b[0;34m[\u001b[0m\u001b[0maxis\u001b[0m\u001b[0;34m]\u001b[0m\u001b[0;34m\u001b[0m\u001b[0;34m\u001b[0m\u001b[0m\n\u001b[0m\u001b[1;32m    555\u001b[0m         \u001b[0;32mexcept\u001b[0m \u001b[0mKeyError\u001b[0m\u001b[0;34m:\u001b[0m\u001b[0;34m\u001b[0m\u001b[0;34m\u001b[0m\u001b[0m\n",
            "\u001b[0;31mKeyError\u001b[0m: 'Profit'",
            "\nDuring handling of the above exception, another exception occurred:\n",
            "\u001b[0;31mValueError\u001b[0m                                Traceback (most recent call last)",
            "\u001b[0;32m<ipython-input-44-e016e058727b>\u001b[0m in \u001b[0;36m<cell line: 1>\u001b[0;34m()\u001b[0m\n\u001b[0;32m----> 1\u001b[0;31m \u001b[0mprod_rank\u001b[0m \u001b[0;34m=\u001b[0m \u001b[0mdf\u001b[0m\u001b[0;34m.\u001b[0m\u001b[0mgroupby\u001b[0m\u001b[0;34m(\u001b[0m\u001b[0;34m'State'\u001b[0m\u001b[0;34m)\u001b[0m\u001b[0;34m[\u001b[0m\u001b[0;34m'Profit'\u001b[0m\u001b[0;34m]\u001b[0m\u001b[0;34m.\u001b[0m\u001b[0msum\u001b[0m\u001b[0;34m(\u001b[0m\u001b[0;34m)\u001b[0m\u001b[0;34m.\u001b[0m\u001b[0msort_values\u001b[0m\u001b[0;34m(\u001b[0m\u001b[0;34m'Profit'\u001b[0m\u001b[0;34m,\u001b[0m \u001b[0mascending\u001b[0m\u001b[0;34m=\u001b[0m\u001b[0;32mTrue\u001b[0m\u001b[0;34m)\u001b[0m\u001b[0;34m\u001b[0m\u001b[0;34m\u001b[0m\u001b[0m\n\u001b[0m\u001b[1;32m      2\u001b[0m \u001b[0;34m\u001b[0m\u001b[0m\n\u001b[1;32m      3\u001b[0m \u001b[0mprint\u001b[0m\u001b[0;34m(\u001b[0m\u001b[0mprod_rank\u001b[0m\u001b[0;34m)\u001b[0m\u001b[0;34m\u001b[0m\u001b[0;34m\u001b[0m\u001b[0m\n",
            "\u001b[0;32m/usr/local/lib/python3.10/dist-packages/pandas/util/_decorators.py\u001b[0m in \u001b[0;36mwrapper\u001b[0;34m(*args, **kwargs)\u001b[0m\n\u001b[1;32m    329\u001b[0m                     \u001b[0mstacklevel\u001b[0m\u001b[0;34m=\u001b[0m\u001b[0mfind_stack_level\u001b[0m\u001b[0;34m(\u001b[0m\u001b[0;34m)\u001b[0m\u001b[0;34m,\u001b[0m\u001b[0;34m\u001b[0m\u001b[0;34m\u001b[0m\u001b[0m\n\u001b[1;32m    330\u001b[0m                 )\n\u001b[0;32m--> 331\u001b[0;31m             \u001b[0;32mreturn\u001b[0m \u001b[0mfunc\u001b[0m\u001b[0;34m(\u001b[0m\u001b[0;34m*\u001b[0m\u001b[0margs\u001b[0m\u001b[0;34m,\u001b[0m \u001b[0;34m**\u001b[0m\u001b[0mkwargs\u001b[0m\u001b[0;34m)\u001b[0m\u001b[0;34m\u001b[0m\u001b[0;34m\u001b[0m\u001b[0m\n\u001b[0m\u001b[1;32m    332\u001b[0m \u001b[0;34m\u001b[0m\u001b[0m\n\u001b[1;32m    333\u001b[0m         \u001b[0;31m# error: \"Callable[[VarArg(Any), KwArg(Any)], Any]\" has no\u001b[0m\u001b[0;34m\u001b[0m\u001b[0;34m\u001b[0m\u001b[0m\n",
            "\u001b[0;32m/usr/local/lib/python3.10/dist-packages/pandas/core/series.py\u001b[0m in \u001b[0;36msort_values\u001b[0;34m(self, axis, ascending, inplace, kind, na_position, ignore_index, key)\u001b[0m\n\u001b[1;32m   3742\u001b[0m         \u001b[0minplace\u001b[0m \u001b[0;34m=\u001b[0m \u001b[0mvalidate_bool_kwarg\u001b[0m\u001b[0;34m(\u001b[0m\u001b[0minplace\u001b[0m\u001b[0;34m,\u001b[0m \u001b[0;34m\"inplace\"\u001b[0m\u001b[0;34m)\u001b[0m\u001b[0;34m\u001b[0m\u001b[0;34m\u001b[0m\u001b[0m\n\u001b[1;32m   3743\u001b[0m         \u001b[0;31m# Validate the axis parameter\u001b[0m\u001b[0;34m\u001b[0m\u001b[0;34m\u001b[0m\u001b[0m\n\u001b[0;32m-> 3744\u001b[0;31m         \u001b[0mself\u001b[0m\u001b[0;34m.\u001b[0m\u001b[0m_get_axis_number\u001b[0m\u001b[0;34m(\u001b[0m\u001b[0maxis\u001b[0m\u001b[0;34m)\u001b[0m\u001b[0;34m\u001b[0m\u001b[0;34m\u001b[0m\u001b[0m\n\u001b[0m\u001b[1;32m   3745\u001b[0m \u001b[0;34m\u001b[0m\u001b[0m\n\u001b[1;32m   3746\u001b[0m         \u001b[0;31m# GH 5856/5853\u001b[0m\u001b[0;34m\u001b[0m\u001b[0;34m\u001b[0m\u001b[0m\n",
            "\u001b[0;32m/usr/local/lib/python3.10/dist-packages/pandas/core/generic.py\u001b[0m in \u001b[0;36m_get_axis_number\u001b[0;34m(cls, axis)\u001b[0m\n\u001b[1;32m    554\u001b[0m             \u001b[0;32mreturn\u001b[0m \u001b[0mcls\u001b[0m\u001b[0;34m.\u001b[0m\u001b[0m_AXIS_TO_AXIS_NUMBER\u001b[0m\u001b[0;34m[\u001b[0m\u001b[0maxis\u001b[0m\u001b[0;34m]\u001b[0m\u001b[0;34m\u001b[0m\u001b[0;34m\u001b[0m\u001b[0m\n\u001b[1;32m    555\u001b[0m         \u001b[0;32mexcept\u001b[0m \u001b[0mKeyError\u001b[0m\u001b[0;34m:\u001b[0m\u001b[0;34m\u001b[0m\u001b[0;34m\u001b[0m\u001b[0m\n\u001b[0;32m--> 556\u001b[0;31m             \u001b[0;32mraise\u001b[0m \u001b[0mValueError\u001b[0m\u001b[0;34m(\u001b[0m\u001b[0;34mf\"No axis named {axis} for object type {cls.__name__}\"\u001b[0m\u001b[0;34m)\u001b[0m\u001b[0;34m\u001b[0m\u001b[0;34m\u001b[0m\u001b[0m\n\u001b[0m\u001b[1;32m    557\u001b[0m \u001b[0;34m\u001b[0m\u001b[0m\n\u001b[1;32m    558\u001b[0m     \u001b[0;34m@\u001b[0m\u001b[0mfinal\u001b[0m\u001b[0;34m\u001b[0m\u001b[0;34m\u001b[0m\u001b[0m\n",
            "\u001b[0;31mValueError\u001b[0m: No axis named Profit for object type Series"
          ]
        }
      ]
    },
    {
      "cell_type": "code",
      "source": [],
      "metadata": {
        "id": "-yPmVsTftVRi"
      },
      "execution_count": null,
      "outputs": []
    }
  ]
}