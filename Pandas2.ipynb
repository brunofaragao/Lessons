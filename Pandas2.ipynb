{
  "nbformat": 4,
  "nbformat_minor": 0,
  "metadata": {
    "colab": {
      "provenance": [],
      "authorship_tag": "ABX9TyM86Utfhc4t6HIO1bgryaOV",
      "include_colab_link": true
    },
    "kernelspec": {
      "name": "python3",
      "display_name": "Python 3"
    },
    "language_info": {
      "name": "python"
    }
  },
  "cells": [
    {
      "cell_type": "markdown",
      "metadata": {
        "id": "view-in-github",
        "colab_type": "text"
      },
      "source": [
        "<a href=\"https://colab.research.google.com/github/brunofaragao/Lessons/blob/main/Pandas2.ipynb\" target=\"_parent\"><img src=\"https://colab.research.google.com/assets/colab-badge.svg\" alt=\"Open In Colab\"/></a>"
      ]
    },
    {
      "cell_type": "code",
      "execution_count": 16,
      "metadata": {
        "id": "1hujnB4CetlO"
      },
      "outputs": [],
      "source": [
        "#!pip install pandas\n"
      ]
    },
    {
      "cell_type": "code",
      "source": [
        "# Import the library\n",
        "\n",
        "import pandas as pd"
      ],
      "metadata": {
        "id": "BGxwr9q4e24T"
      },
      "execution_count": 1,
      "outputs": []
    },
    {
      "cell_type": "markdown",
      "source": [
        "Import dataset from excel\n"
      ],
      "metadata": {
        "id": "jpURE7Y0HNg7"
      }
    },
    {
      "cell_type": "code",
      "source": [
        "df = pd.read_excel('dataset_sales.xlsx')\n",
        "df.set_index('Row ID', inplace=True)\n",
        "print(df)"
      ],
      "metadata": {
        "colab": {
          "base_uri": "https://localhost:8080/"
        },
        "id": "grvpPKczHcA9",
        "outputId": "9bd74940-3fc5-48e1-abe8-2be10cf41f33"
      },
      "execution_count": 3,
      "outputs": [
        {
          "output_type": "stream",
          "name": "stdout",
          "text": [
            "              Order ID  Order Date  Ship Date       Ship Mode Customer ID  \\\n",
            "Row ID                                                                      \n",
            "1       CA-2016-152156       42682      42685    Second Class    CG-12520   \n",
            "2       CA-2016-152156       42682      42685    Second Class    CG-12520   \n",
            "3       CA-2016-138688       42533      42537    Second Class    DV-13045   \n",
            "4       US-2015-108966       42288      42295  Standard Class    SO-20335   \n",
            "5       US-2015-108966       42288      42295  Standard Class    SO-20335   \n",
            "...                ...         ...        ...             ...         ...   \n",
            "9990    CA-2014-110422       41660      41662    Second Class    TB-21400   \n",
            "9991    CA-2017-121258       42792      42797  Standard Class    DB-13060   \n",
            "9992    CA-2017-121258       42792      42797  Standard Class    DB-13060   \n",
            "9993    CA-2017-121258       42792      42797  Standard Class    DB-13060   \n",
            "9994    CA-2017-119914       42859      42864    Second Class    CC-12220   \n",
            "\n",
            "           Customer Name    Segment        Country             City  \\\n",
            "Row ID                                                                \n",
            "1            Claire Gute   Consumer  United States        Henderson   \n",
            "2            Claire Gute   Consumer  United States        Henderson   \n",
            "3        Darrin Van Huff  Corporate  United States      Los Angeles   \n",
            "4         Sean O'Donnell   Consumer  United States  Fort Lauderdale   \n",
            "5         Sean O'Donnell   Consumer  United States  Fort Lauderdale   \n",
            "...                  ...        ...            ...              ...   \n",
            "9990    Tom Boeckenhauer   Consumer  United States            Miami   \n",
            "9991         Dave Brooks   Consumer  United States       Costa Mesa   \n",
            "9992         Dave Brooks   Consumer  United States       Costa Mesa   \n",
            "9993         Dave Brooks   Consumer  United States       Costa Mesa   \n",
            "9994        Chris Cortes   Consumer  United States      Westminster   \n",
            "\n",
            "             State  Postal Code Region       Product ID         Category  \\\n",
            "Row ID                                                                     \n",
            "1         Kentucky        42420  South  FUR-BO-10001798        Furniture   \n",
            "2         Kentucky        42420  South  FUR-CH-10000454        Furniture   \n",
            "3       California        90036   West  OFF-LA-10000240  Office Supplies   \n",
            "4          Florida        33311  South  FUR-TA-10000577        Furniture   \n",
            "5          Florida        33311  South  OFF-ST-10000760  Office Supplies   \n",
            "...            ...          ...    ...              ...              ...   \n",
            "9990       Florida        33180  South  FUR-FU-10001889        Furniture   \n",
            "9991    California        92627   West  FUR-FU-10000747        Furniture   \n",
            "9992    California        92627   West  TEC-PH-10003645       Technology   \n",
            "9993    California        92627   West  OFF-PA-10004041  Office Supplies   \n",
            "9994    California        92683   West  OFF-AP-10002684  Office Supplies   \n",
            "\n",
            "       Sub-Category                                       Product Name  \\\n",
            "Row ID                                                                   \n",
            "1         Bookcases                  Bush Somerset Collection Bookcase   \n",
            "2            Chairs  Hon Deluxe Fabric Upholstered Stacking Chairs,...   \n",
            "3            Labels  Self-Adhesive Address Labels for Typewriters b...   \n",
            "4            Tables      Bretford CR4500 Series Slim Rectangular Table   \n",
            "5           Storage                     Eldon Fold 'N Roll Cart System   \n",
            "...             ...                                                ...   \n",
            "9990    Furnishings                             Ultra Door Pull Handle   \n",
            "9991    Furnishings  Tenex B1-RE Series Chair Mats for Low Pile Car...   \n",
            "9992         Phones                              Aastra 57i VoIP phone   \n",
            "9993          Paper  It's Hot Message Books with Stickers, 2 3/4\" x 5\"   \n",
            "9994     Appliances  Acco 7-Outlet Masterpiece Power Center, Wihtou...   \n",
            "\n",
            "           Sales  Quantity  Discount    Profit  \n",
            "Row ID                                          \n",
            "1       261.9600         2      0.00   41.9136  \n",
            "2       731.9400         3      0.00  219.5820  \n",
            "3        14.6200         2      0.00    6.8714  \n",
            "4       957.5775         5      0.45 -383.0310  \n",
            "5        22.3680         2      0.20    2.5164  \n",
            "...          ...       ...       ...       ...  \n",
            "9990     25.2480         3      0.20    4.1028  \n",
            "9991     91.9600         2      0.00   15.6332  \n",
            "9992    258.5760         2      0.20   19.3932  \n",
            "9993     29.6000         4      0.00   13.3200  \n",
            "9994    243.1600         2      0.00   72.9480  \n",
            "\n",
            "[9994 rows x 20 columns]\n"
          ]
        }
      ]
    },
    {
      "cell_type": "markdown",
      "source": [
        "Find who sold more products"
      ],
      "metadata": {
        "id": "JSOW6KvsJEg-"
      }
    },
    {
      "cell_type": "code",
      "source": [
        "ranking = df.groupby('Category')['Profit'].sum()\n",
        "print(ranking)"
      ],
      "metadata": {
        "colab": {
          "base_uri": "https://localhost:8080/"
        },
        "id": "lEf75UZjHm-i",
        "outputId": "71d5c3e5-253b-48f2-bd95-576b431b8945"
      },
      "execution_count": 9,
      "outputs": [
        {
          "output_type": "stream",
          "name": "stdout",
          "text": [
            "Category\n",
            "Furniture           18451.2728\n",
            "Office Supplies    122490.8008\n",
            "Technology         145454.9481\n",
            "Name: Profit, dtype: float64\n"
          ]
        }
      ]
    },
    {
      "cell_type": "code",
      "source": [
        "prod_rank = df.groupby('State')['Category'].sum()\n",
        "print(prod_rank)"
      ],
      "metadata": {
        "colab": {
          "base_uri": "https://localhost:8080/"
        },
        "id": "4csLh5uTs4i0",
        "outputId": "378d1c5e-7a2f-46b8-c2f2-9b767f05bb84"
      },
      "execution_count": 12,
      "outputs": [
        {
          "output_type": "stream",
          "name": "stdout",
          "text": [
            "State\n",
            "Alabama                 Office SuppliesOffice SuppliesTechnologyOffice...\n",
            "Arizona                 Office SuppliesTechnologyOffice SuppliesOffice...\n",
            "Arkansas                Office SuppliesOffice SuppliesTechnologyOffice...\n",
            "California              Office SuppliesFurnitureOffice SuppliesTechnol...\n",
            "Colorado                TechnologyFurnitureOffice SuppliesFurnitureOff...\n",
            "Connecticut             Office SuppliesOffice SuppliesOffice SuppliesO...\n",
            "Delaware                TechnologyTechnologyFurnitureOffice SuppliesOf...\n",
            "District of Columbia    Office SuppliesFurnitureTechnologyOffice Suppl...\n",
            "Florida                 FurnitureOffice SuppliesOffice SuppliesFurnitu...\n",
            "Georgia                 Office SuppliesOffice SuppliesOffice SuppliesO...\n",
            "Idaho                   FurnitureOffice SuppliesOffice SuppliesFurnitu...\n",
            "Illinois                TechnologyFurnitureOffice SuppliesOffice Suppl...\n",
            "Indiana                 Office SuppliesOffice SuppliesFurnitureFurnitu...\n",
            "Iowa                    Office SuppliesOffice SuppliesOffice SuppliesT...\n",
            "Kansas                  Office SuppliesOffice SuppliesOffice SuppliesT...\n",
            "Kentucky                FurnitureFurnitureOffice SuppliesOffice Suppli...\n",
            "Louisiana               TechnologyTechnologyTechnologyOffice SuppliesO...\n",
            "Maine                   TechnologyFurnitureOffice SuppliesOffice Suppl...\n",
            "Maryland                Office SuppliesOffice SuppliesOffice SuppliesF...\n",
            "Massachusetts           Office SuppliesOffice SuppliesOffice SuppliesF...\n",
            "Michigan                Office SuppliesOffice SuppliesOffice SuppliesT...\n",
            "Minnesota               TechnologyOffice SuppliesTechnologyOffice Supp...\n",
            "Mississippi             FurnitureTechnologyOffice SuppliesOffice Suppl...\n",
            "Missouri                Office SuppliesFurnitureTechnologyFurnitureFur...\n",
            "Montana                 TechnologyOffice SuppliesOffice SuppliesOffice...\n",
            "Nebraska                Office SuppliesOffice SuppliesFurnitureTechnol...\n",
            "Nevada                  Office SuppliesOffice SuppliesOffice SuppliesF...\n",
            "New Hampshire           Office SuppliesFurnitureTechnologyTechnologyOf...\n",
            "New Jersey              Office SuppliesOffice SuppliesOffice SuppliesO...\n",
            "New Mexico              Office SuppliesTechnologyOffice SuppliesTechno...\n",
            "New York                Office SuppliesTechnologyOffice SuppliesOffice...\n",
            "North Carolina          Office SuppliesOffice SuppliesTechnologyTechno...\n",
            "North Dakota            Office SuppliesOffice SuppliesOffice SuppliesO...\n",
            "Ohio                    Office SuppliesOffice SuppliesOffice SuppliesO...\n",
            "Oklahoma                Office SuppliesTechnologyTechnologyTechnologyT...\n",
            "Oregon                  Office SuppliesOffice SuppliesTechnologyOffice...\n",
            "Pennsylvania            FurnitureFurnitureOffice SuppliesFurnitureOffi...\n",
            "Rhode Island            Office SuppliesOffice SuppliesOffice SuppliesO...\n",
            "South Carolina          FurnitureOffice SuppliesOffice SuppliesOffice ...\n",
            "South Dakota            Office SuppliesOffice SuppliesOffice SuppliesF...\n",
            "Tennessee               FurnitureFurnitureOffice SuppliesOffice Suppli...\n",
            "Texas                   Office SuppliesOffice SuppliesOffice SuppliesT...\n",
            "Utah                    Office SuppliesFurnitureOffice SuppliesOffice ...\n",
            "Vermont                 TechnologyFurnitureTechnologyTechnologyOffice ...\n",
            "Virginia                Office SuppliesOffice SuppliesFurnitureTechnol...\n",
            "Washington              Office SuppliesFurnitureOffice SuppliesFurnitu...\n",
            "West Virginia           Office SuppliesOffice SuppliesOffice SuppliesF...\n",
            "Wisconsin               Office SuppliesTechnologyTechnologyFurnitureOf...\n",
            "Wyoming                                                         Furniture\n",
            "Name: Category, dtype: object\n"
          ]
        }
      ]
    },
    {
      "cell_type": "code",
      "source": [],
      "metadata": {
        "id": "-yPmVsTftVRi"
      },
      "execution_count": null,
      "outputs": []
    }
  ]
}