{
  "nbformat": 4,
  "nbformat_minor": 0,
  "metadata": {
    "colab": {
      "provenance": [],
      "authorship_tag": "ABX9TyN4UP9ZfN2au7ytoPy83o2Y",
      "include_colab_link": true
    },
    "kernelspec": {
      "name": "python3",
      "display_name": "Python 3"
    },
    "language_info": {
      "name": "python"
    }
  },
  "cells": [
    {
      "cell_type": "markdown",
      "metadata": {
        "id": "view-in-github",
        "colab_type": "text"
      },
      "source": [
        "<a href=\"https://colab.research.google.com/github/brunofaragao/Lessons/blob/main/Pandas1.ipynb\" target=\"_parent\"><img src=\"https://colab.research.google.com/assets/colab-badge.svg\" alt=\"Open In Colab\"/></a>"
      ]
    },
    {
      "cell_type": "code",
      "execution_count": null,
      "metadata": {
        "id": "1hujnB4CetlO"
      },
      "outputs": [],
      "source": [
        "#!pip install pandas\n"
      ]
    },
    {
      "cell_type": "code",
      "source": [
        "# Import the library\n",
        "\n",
        "import pandas as pd"
      ],
      "metadata": {
        "id": "BGxwr9q4e24T"
      },
      "execution_count": null,
      "outputs": []
    },
    {
      "cell_type": "code",
      "source": [
        "## Working with lists\n",
        "\n",
        "data = ['John', 'Maria', 'Pedro', 'Rodolf']\n",
        "\n",
        "df = pd.DataFrame(data)\n",
        "print(df)"
      ],
      "metadata": {
        "colab": {
          "base_uri": "https://localhost:8080/"
        },
        "id": "hxd4Ud2wfDfX",
        "outputId": "b21983d6-3a24-4cd5-a224-25cfc3e2a63b"
      },
      "execution_count": null,
      "outputs": [
        {
          "output_type": "stream",
          "name": "stdout",
          "text": [
            "        0\n",
            "0    John\n",
            "1   Maria\n",
            "2   Pedro\n",
            "3  Rodolf\n"
          ]
        }
      ]
    },
    {
      "cell_type": "markdown",
      "source": [
        "Defining the column name"
      ],
      "metadata": {
        "id": "6ilhsuAJeXlb"
      }
    },
    {
      "cell_type": "code",
      "source": [
        "df1 = pd.DataFrame(data, columns=['Name'])\n",
        "\n",
        "print(df1)"
      ],
      "metadata": {
        "colab": {
          "base_uri": "https://localhost:8080/"
        },
        "id": "_gW9lhHueP48",
        "outputId": "c60d3054-8833-4327-d88d-7549e8d536d0"
      },
      "execution_count": null,
      "outputs": [
        {
          "output_type": "stream",
          "name": "stdout",
          "text": [
            "     Name\n",
            "0    John\n",
            "1   Maria\n",
            "2   Pedro\n",
            "3  Rodolf\n"
          ]
        }
      ]
    },
    {
      "cell_type": "markdown",
      "source": [
        "Convert a list into a DataFrame of 2 columns (3 ways of doing it)"
      ],
      "metadata": {
        "id": "C1gIV8FGek37"
      }
    },
    {
      "cell_type": "markdown",
      "source": [
        "\n",
        "1.   Spliting the list into 2 sublists and a DataFrame from it\n",
        "\n",
        "\n"
      ],
      "metadata": {
        "id": "8SzJHjXQpqP8"
      }
    },
    {
      "cell_type": "code",
      "source": [
        "data = ['John', 'Maria', 'Pedro', 'Rodolf', 20, 30, 40, 50]\n",
        "\n",
        "# split the list into two separate lists\n",
        "data_name = data[0:4]  # defining data_name from position 0 to 3\n",
        "data_age = data[4:8]   # defining data_age from position 4 to 7\n",
        "\n",
        "\n",
        "#print(type(data_name), data_name)\n",
        "#print(' ')\n",
        "#print(type(data_age), data_age)\n",
        "#print(' ')\n",
        "\n",
        "##Create a DataFrame from 2 lists\n",
        "\n",
        "merge_lists = list(zip(data_name, data_age))\n",
        "\n",
        "df = pd.DataFrame(merge_lists, columns = ['Name', 'Age'])\n",
        "\n",
        "print(df)\n"
      ],
      "metadata": {
        "colab": {
          "base_uri": "https://localhost:8080/"
        },
        "id": "rLPcLBQWfT1g",
        "outputId": "627588c7-aa48-4bb4-a654-5ca6733a7e1f"
      },
      "execution_count": null,
      "outputs": [
        {
          "output_type": "stream",
          "name": "stdout",
          "text": [
            "     Name  Age\n",
            "0    John   20\n",
            "1   Maria   30\n",
            "2   Pedro   40\n",
            "3  Rodolf   50\n"
          ]
        }
      ]
    },
    {
      "cell_type": "markdown",
      "source": [
        "\n",
        "2.   Spliting the list into 2 sublists and a DataFrame from it (2nd way)\n",
        "\n"
      ],
      "metadata": {
        "id": "mEqWUcw9qYXQ"
      }
    },
    {
      "cell_type": "code",
      "source": [
        "data = ['John', 'Maria', 'Pedro', 'Rodolf', 20, 30, 40, 50]\n",
        "\n",
        "split_lists = [data[x:x+4] for x in range(0, len(data), 4)]\n",
        "\n",
        "#print(split_lists)\n",
        "#print(type(split_lists))\n",
        "\n",
        "df = pd.DataFrame(split_lists, index=['Name', 'Age'])\n",
        "\n",
        "print(df)"
      ],
      "metadata": {
        "colab": {
          "base_uri": "https://localhost:8080/"
        },
        "id": "qOFbo4ZfkBcm",
        "outputId": "7b0332af-1e36-48f8-c06d-0b83745edc15"
      },
      "execution_count": null,
      "outputs": [
        {
          "output_type": "stream",
          "name": "stdout",
          "text": [
            "         0      1      2       3\n",
            "Name  John  Maria  Pedro  Rodolf\n",
            "Age     20     30     40      50\n"
          ]
        }
      ]
    },
    {
      "cell_type": "markdown",
      "source": [
        "\n",
        "3.   Spliting the list into 2 sublists and a DataFrame from it (3rd way)\n",
        "\n"
      ],
      "metadata": {
        "id": "beOI1QufsKK_"
      }
    },
    {
      "cell_type": "code",
      "source": [
        "data = ['John', 'Maria', 'Pedro', 'Rodolf', 20, 30, 40, 50]\n",
        "\n",
        "name_data=[]\n",
        "age_data = []\n",
        "new_data = []\n",
        "\n",
        "i=0\n",
        "for el in data:\n",
        "  if i < 4:\n",
        "    name_data.append(el)\n",
        "  else:\n",
        "    age_data.append(el)\n",
        "  i +=1\n",
        "\n",
        "#print(name_data)\n",
        "#print(' ')\n",
        "#print(age_data)\n",
        "\n",
        "zipped = list(zip(name_data, age_data))\n",
        "# print(zipped)\n",
        "\n",
        "df2 = pd.DataFrame(zipped, columns=['Name','Age'])\n",
        "print(df2)"
      ],
      "metadata": {
        "colab": {
          "base_uri": "https://localhost:8080/"
        },
        "id": "0fkQb88Sa6Fc",
        "outputId": "5eb0f28b-94a4-4dcb-b1de-a441079e6c0f"
      },
      "execution_count": null,
      "outputs": [
        {
          "output_type": "stream",
          "name": "stdout",
          "text": [
            "     Name  Age\n",
            "0    John   20\n",
            "1   Maria   30\n",
            "2   Pedro   40\n",
            "3  Rodolf   50\n"
          ]
        }
      ]
    },
    {
      "cell_type": "markdown",
      "source": [
        "Adding a new column to the DataFrame (Country)"
      ],
      "metadata": {
        "id": "bzZVVB8xjNRz"
      }
    },
    {
      "cell_type": "code",
      "source": [
        "df2['Country'] = ['USA', 'Spain', 'Mexico', 'Germany']\n",
        "print(df2)"
      ],
      "metadata": {
        "colab": {
          "base_uri": "https://localhost:8080/"
        },
        "id": "OQlr3brCjRrw",
        "outputId": "f45315fc-e6b2-4ca7-ef6f-144efe5c32ec"
      },
      "execution_count": null,
      "outputs": [
        {
          "output_type": "stream",
          "name": "stdout",
          "text": [
            "     Name  Age  Country\n",
            "0    John   20      USA\n",
            "1   Maria   30    Spain\n",
            "2   Pedro   40   Mexico\n",
            "3  Rodolf   50  Germany\n"
          ]
        }
      ]
    },
    {
      "cell_type": "markdown",
      "source": [
        "DataFrame from Dictionaries"
      ],
      "metadata": {
        "id": "6w-FqgU2se1H"
      }
    },
    {
      "cell_type": "code",
      "source": [
        "dictData = {'Name': ['John', 'Maria', 'Pedro', 'Rodolf'], 'Age': [20, 30, 40, 50], 'Country': ['USA', 'Spain', 'Mexico', 'Germany']}\n",
        "\n",
        "dfDict = pd.DataFrame(dictData)\n",
        "\n",
        "print(dfDict)"
      ],
      "metadata": {
        "id": "-RlAr2lwjl0n",
        "colab": {
          "base_uri": "https://localhost:8080/"
        },
        "outputId": "04a7747c-0072-4627-b465-09cc33cd84dc"
      },
      "execution_count": null,
      "outputs": [
        {
          "output_type": "stream",
          "name": "stdout",
          "text": [
            "     Name  Age  Country\n",
            "0    John   20      USA\n",
            "1   Maria   30    Spain\n",
            "2   Pedro   40   Mexico\n",
            "3  Rodolf   50  Germany\n"
          ]
        }
      ]
    },
    {
      "cell_type": "code",
      "source": [],
      "metadata": {
        "id": "ZDvaBHqjtEGs"
      },
      "execution_count": null,
      "outputs": []
    }
  ]
}